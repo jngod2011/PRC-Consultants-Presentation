{
 "cells": [
  {
   "cell_type": "markdown",
   "metadata": {
    "slideshow": {
     "slide_type": "slide"
    }
   },
   "source": [
    "# This file is to showcase the features of Jupyter Notebook as part of the PRC Consultants Presentation\n",
    "\n",
    "## October 18, 2018\n",
    "  "
   ]
  },
  {
   "cell_type": "markdown",
   "metadata": {
    "slideshow": {
     "slide_type": "slide"
    }
   },
   "source": [
    " ### What this python code does:\n",
    "    1) Read in the csv file of newspaper articles\n",
    "    2) Translate articles and headlines into English\n",
    "    3) Search for key terms in each article to determine positive sentiment\n",
    "    4) Export into dataset that can be merged with other data for analysis in STATA\n",
    "    5) Also create an English-only dataset to use to calculate polarity"
   ]
  },
  {
   "cell_type": "code",
   "execution_count": 1,
   "metadata": {
    "slideshow": {
     "slide_type": "slide"
    }
   },
   "outputs": [],
   "source": [
    "# Importing packages\n",
    "import re\n",
    "import numpy as np\n",
    "import pandas as pd\n",
    "import os\n",
    "import sys\n",
    "import matplotlib.pyplot as plt\n",
    "%matplotlib inline\n",
    "\n",
    "from bs4 import BeautifulSoup\n",
    "import requests\n",
    "import seaborn as sns\n",
    "\n",
    "# Disable annoying SettingWithCopyWarning\n",
    "pd.options.mode.chained_assignment = None"
   ]
  },
  {
   "cell_type": "code",
   "execution_count": 8,
   "metadata": {
    "slideshow": {
     "slide_type": "slide"
    }
   },
   "outputs": [],
   "source": [
    "#Reading in the first set of data\n",
    "df1 = pd.read_table('/Users/krisvelasco/KrisTheStupidIdiot/1-938.txt', sep=',', names=('header', 'location', 'newspaper', 'date', 'day', 'body', 'other'))\n"
   ]
  },
  {
   "cell_type": "code",
   "execution_count": null,
   "metadata": {},
   "outputs": [],
   "source": [
    "#Inspecting the data\n",
    "df1.describe()\n",
    "df1.sample(100)\n",
    "##Okay, there's an issue because The Prague Post should not be a date and the \"NO Date of Week Info\" should not appear in the \"other\" column."
   ]
  },
  {
   "cell_type": "code",
   "execution_count": 27,
   "metadata": {
    "slideshow": {
     "slide_type": "slide"
    }
   },
   "outputs": [],
   "source": [
    "#Going to quickly export the lines that did not separate cleanly into columns\n",
    "df1.body = df1.body.fillna('error')\n",
    "error_df1 = df1[df1.body == 'error']\n",
    "\n",
    "header = ['header','location','newspaper','date','day','body', 'other']\n",
    "\n",
    "error_df1.to_csv('/Users/krisvelasco/Box/Dissertation/LGBT Newspaper Data/Cleaned/errors2.csv', columns = header)"
   ]
  },
  {
   "cell_type": "markdown",
   "metadata": {
    "slideshow": {
     "slide_type": "slide"
    }
   },
   "source": [
    "#### For this next task, I don't know the python code. Since I am in a pinch, I am just going to swtich to R real fast and start working on the same dataset with R code."
   ]
  },
  {
   "cell_type": "code",
   "execution_count": 4,
   "metadata": {},
   "outputs": [],
   "source": [
    "#importing the R interface\n",
    "import rpy2.rinterface\n"
   ]
  },
  {
   "cell_type": "code",
   "execution_count": 5,
   "metadata": {},
   "outputs": [],
   "source": [
    "#Now I am loading up the package to being interacting with R\n",
    "%load_ext rpy2.ipython"
   ]
  },
  {
   "cell_type": "code",
   "execution_count": null,
   "metadata": {},
   "outputs": [],
   "source": [
    "##The two %% is referred to as \"Cell Magic\" -- it tells Jupyter which language I want to code in.\n",
    "%%R\n",
    "\n",
    "#Now I am programming in R\n",
    "x <- c(1, 2, 3, 4)\n",
    "print(x)"
   ]
  },
  {
   "cell_type": "code",
   "execution_count": null,
   "metadata": {},
   "outputs": [],
   "source": [
    "##Using R commeands on the python dataframe I created earlier\n",
    "\n",
    "print(df1)"
   ]
  },
  {
   "cell_type": "markdown",
   "metadata": {},
   "source": [
    "If I had a licensed version of STATA on my computer, I could now even use STATA commands on the same dataset as well. "
   ]
  },
  {
   "cell_type": "markdown",
   "metadata": {},
   "source": [
    "# All Done! Check out our GitHub account for more tricks and tips on how to use Jupyter Notebook."
   ]
  }
 ],
 "metadata": {
  "kernelspec": {
   "display_name": "Python 3",
   "language": "python",
   "name": "python3"
  },
  "language_info": {
   "codemirror_mode": {
    "name": "ipython",
    "version": 3
   },
   "file_extension": ".py",
   "mimetype": "text/x-python",
   "name": "python",
   "nbconvert_exporter": "python",
   "pygments_lexer": "ipython3",
   "version": "3.6.4"
  }
 },
 "nbformat": 4,
 "nbformat_minor": 2
}
